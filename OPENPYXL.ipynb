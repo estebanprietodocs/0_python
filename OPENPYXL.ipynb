{
 "cells": [
  {
   "cell_type": "raw",
   "metadata": {},
   "source": [
    "generar las columnas y solapas en el archivo base\n",
    "importar todas las fuentes de datos. mensualmente? o el historico? siempre es preferible diariamente\n",
    "traer al archivo base la info de las distintas fuentes, agregando data source fuente, mes, etc\n",
    "usar append, para porder ir guardando el historico.tener en cuenta que no se duplique o pise la data\n",
    "comparar mes a mes y tambien proyectar \n",
    "usar botones para automatizar por separado?\n",
    "\n",
    "CONSEGUIR UNA NUEVA BASE DE DATOS PARA MEZCLAR CON LA DEL COVID!\n",
    "ARMAR UN WORKBOOK EN OPENPY QUE JUNTE LA DATA DE ESTAS DOS BASES"
   ]
  },
  {
   "cell_type": "raw",
   "metadata": {},
   "source": [
    "DATA SOURCE COVID> EXTRACT, TRANSFORM AND LOAD"
   ]
  },
  {
   "cell_type": "code",
   "execution_count": 43,
   "metadata": {},
   "outputs": [],
   "source": [
    "#Import libraries\n",
    "from urllib.request import urlretrieve\n",
    "import pandas as pd\n",
    "\n",
    "# Assign url of file: url\n",
    "url = 'https://covid.ourworldindata.org/data/owid-covid-data.csv'\n",
    "\n",
    "# Save file locally\n",
    "urlretrieve(url, r'C:\\Users\\Mumes\\Desktop\\owid-covid-data.csv')\n",
    "\n",
    "#import dataset\n",
    "df = pd.read_csv(r'C:\\Users\\Mumes\\Desktop\\owid-covid-data.csv')\n",
    "\n",
    "# Adding month and year columns\n",
    "df['day'] = pd.DatetimeIndex(df['date']).day\n",
    "df['month'] = pd.DatetimeIndex(df['date']).month\n",
    "df['year'] = pd.DatetimeIndex(df['date']).year\n",
    "\n",
    "# Filtering by country\n",
    "list_countries = ['Denmark','Ireland','Argentina', 'Brazil', 'Chile', 'Peru','Mexico', 'United States', 'France', 'Italy', 'Spain', 'United Kingdom', 'India', 'China', 'South Korea', 'Australia', 'New Zealand']\n",
    "df_1 = df[df['location'].isin(list_countries)]\n",
    "\n",
    "# Filtering by year\n",
    "list_year = [2020]\n",
    "df_covid = df_1[df_1['year'].isin(list_year)]\n",
    "\n",
    "# Replacing negative new_cases = 0\n",
    "#df_covid.loc[df_covid['new_cases'] < 0, ['new_cases']] = 0  \n",
    "\n",
    "# Excluding Nan values in continent column\n",
    "df_covid = df_covid[df_covid.continent.notnull()]\n",
    "\n",
    "# Save locally\n",
    "df_covid.to_csv(r'C:\\Users\\Mumes\\Desktop\\Automatization\\Data_sources\\df_covid.csv')"
   ]
  },
  {
   "cell_type": "raw",
   "metadata": {},
   "source": [
    "CREACION DE UN WORKBOOK Y SOLAPAS CON NOMBRE. SAVE LOCALLY"
   ]
  },
  {
   "cell_type": "code",
   "execution_count": 13,
   "metadata": {
    "scrolled": true
   },
   "outputs": [
    {
     "name": "stdout",
     "output_type": "stream",
     "text": [
      "['ENE', 'FEB', 'MAR']\n"
     ]
    }
   ],
   "source": [
    "from openpyxl import Workbook, load_workbook, cell  #import librerias\n",
    "book = Workbook()  #creamos el libro\n",
    "sheet1 = book.create_sheet('ENE', 0)  # creamos la solapa enero y la ubicamos en primera posicion\n",
    "sheet3 = book.create_sheet('MAR', 2)  # creamos la solapa marzo y la ubicamos en tercera posicion\n",
    "sheet2 = book.create_sheet('FEB', 1)  # creamos la solapa febrero y la ubicamos en segunda posicion\n",
    "elim_sheet = book['Sheet'] # transformamos a la solapa sheet en un objeto que se pueda borrar\n",
    "book.remove(elim_sheet) # eliminamos solapa sheet. Es la solapa creada por default cuando creamos el workbook()\n",
    "print(book.sheetnames) # vemos que solapas tenemos para verificar que borramos sheet\n",
    "book.save(r'C:\\Users\\Mumes\\Desktop\\book.xlsx') # guardamos el workbook creado"
   ]
  },
  {
   "cell_type": "code",
   "execution_count": null,
   "metadata": {},
   "outputs": [],
   "source": [
    "CONTINUAR..."
   ]
  },
  {
   "cell_type": "code",
   "execution_count": 24,
   "metadata": {},
   "outputs": [
    {
     "name": "stdout",
     "output_type": "stream",
     "text": [
      "Collecting clipboard\n",
      "  Downloading clipboard-0.0.4.tar.gz (1.7 kB)\n",
      "Collecting pyperclip>=1.3\n",
      "  Downloading pyperclip-1.8.0.tar.gz (16 kB)\n",
      "Building wheels for collected packages: clipboard, pyperclip\n",
      "  Building wheel for clipboard (setup.py): started\n",
      "  Building wheel for clipboard (setup.py): finished with status 'done'\n",
      "  Created wheel for clipboard: filename=clipboard-0.0.4-py3-none-any.whl size=1854 sha256=3bb369c2cd30e456ae61e826e088c5e0dba7181c152b0ae56d1fba387c2f96e5\n",
      "  Stored in directory: c:\\users\\mumes\\appdata\\local\\pip\\cache\\wheels\\76\\06\\fa\\282b51f270aaab0f9141d8eec9016e29bce0e081861fabd4c8\n",
      "  Building wheel for pyperclip (setup.py): started\n",
      "  Building wheel for pyperclip (setup.py): finished with status 'done'\n",
      "  Created wheel for pyperclip: filename=pyperclip-1.8.0-py3-none-any.whl size=8696 sha256=00220d5d3cb5e4d56104c47758ab2a6cdb8c3ad5fedbb783305b001561838cc6\n",
      "  Stored in directory: c:\\users\\mumes\\appdata\\local\\pip\\cache\\wheels\\e5\\5e\\f7\\441179ddf6ac56f36cb1d84d94f35beedd5da15986ce3d321d\n",
      "Successfully built clipboard pyperclip\n",
      "Installing collected packages: pyperclip, clipboard\n",
      "Successfully installed clipboard-0.0.4 pyperclip-1.8.0\n",
      "Note: you may need to restart the kernel to use updated packages.\n"
     ]
    }
   ],
   "source": [
    "pip install clipboard"
   ]
  },
  {
   "cell_type": "code",
   "execution_count": 46,
   "metadata": {},
   "outputs": [],
   "source": [
    "\n",
    "###CORREGIR PARA QUE PEGUE BIEN EL CSV EN EL WORKBOOK\n",
    "\n",
    "\n",
    "import openpyxl\n",
    "import pandas as pd\n",
    "import clipboard as clp\n",
    "\n",
    "\n",
    "base = pd.read_csv(r'C:\\Users\\Mumes\\Desktop\\Automatization\\Data_sources\\df_covid.csv')\n",
    "\n",
    "# Filtering by Argentina\n",
    "list_arg = ['Argentina']\n",
    "base_arg = base[base['location'].isin(list_arg)]\n",
    "\n",
    "# Filtering by mes marzo\n",
    "list_marzo = [3]\n",
    "base_arg_marzo = base_arg[base_arg['month'].isin(list_marzo)]\n",
    "\n",
    "\n",
    "\n",
    "\n",
    "\n",
    "base_arg_marzo.to_excel(r'C:\\Users\\Mumes\\Desktop\\book2.xlsx')\n",
    "\n",
    " \n",
    "#Copy dataframe to clipboard\n",
    "#base_arg_marzo.to_clipboard()\n",
    "#paste the clipboard to a valirable\n",
    "#cells = clp.paste()\n",
    "#split text in varialble as rows and columns\n",
    "#cells = [x.split() for x in cells.split('\\n')]\n",
    "\n",
    "#Open the work book\n",
    "#file_path = r'C:\\Users\\Mumes\\Desktop\\book.xlsx'\n",
    "#book2 = load_workbook(file_path) #cargamos el libro sueldos\n",
    "#Sheet1 = book2['MAR'] #seleccionamos la solapa MAR del workbook\n",
    "\n",
    "#Paste clipboard values to the sheet\n",
    "#for i, r in zip(range(1,len(cells)), cells):\n",
    "    #for j, c in zip(range(1,len(r)), r):\n",
    "      # Sheet1.cell(row = i, column = j).value = c\n",
    "\n",
    "#Save the workbook\n",
    "#book2.save(file_path) # guardamos en un libro nuevo book2 \n",
    "\n",
    "\n"
   ]
  },
  {
   "cell_type": "code",
   "execution_count": 40,
   "metadata": {},
   "outputs": [],
   "source": [
    "book_prueba = Workbook() #creamos un libro\n",
    "sheet1 = book_prueba.active[1] # seleccionamos la solapa 1. En este caso, es la unica que tiene\n",
    "book_prueba.save(r'C:\\Users\\Mumes\\Desktop\\book_prueba.xlsx') #guardamos el libro"
   ]
  },
  {
   "cell_type": "code",
   "execution_count": 99,
   "metadata": {},
   "outputs": [],
   "source": [
    "from openpyxl import Workbook\n",
    "from openpyxl.worksheet.table import Table, TableStyleInfo\n",
    "\n",
    "wb = Workbook()\n",
    "ws = wb.active\n",
    "\n",
    "data = [\n",
    "    ['Apples', 10000, 5000, 8000, 6000],\n",
    "    ['Pears',   2000, 3000, 4000, 5000],\n",
    "    ['Bananas', 6000, 6000, 6500, 6000],\n",
    "    ['Oranges',  500,  300,  200,  700],\n",
    "]\n",
    "\n",
    "# add column headings. NB. these must be strings\n",
    "ws.append([\"Fruit\", \"2011\", \"2012\", \"2013\", \"2014\"])\n",
    "for row in data:\n",
    "    ws.append(row)\n",
    "\n",
    "tab = Table(displayName=\"Table1\", ref=\"A1:E5\")\n",
    "\n",
    "# Add a default style with striped rows and banded columns\n",
    "style = TableStyleInfo(name=\"TableStyleMedium9\", showFirstColumn=False,\n",
    "                       showLastColumn=False, showRowStripes=True, showColumnStripes=True)\n",
    "tab.tableStyleInfo = style\n",
    "ws.add_table(tab)\n",
    "wb.save(r'C:\\Users\\Mumes\\Desktop\\book_prueba.xlsx')"
   ]
  }
 ],
 "metadata": {
  "kernelspec": {
   "display_name": "Python 3",
   "language": "python",
   "name": "python3"
  },
  "language_info": {
   "codemirror_mode": {
    "name": "ipython",
    "version": 3
   },
   "file_extension": ".py",
   "mimetype": "text/x-python",
   "name": "python",
   "nbconvert_exporter": "python",
   "pygments_lexer": "ipython3",
   "version": "3.7.6"
  }
 },
 "nbformat": 4,
 "nbformat_minor": 4
}
