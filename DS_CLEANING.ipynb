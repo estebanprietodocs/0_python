{
 "cells": [
  {
   "cell_type": "markdown",
   "metadata": {},
   "source": [
    "# _DATA CLEANING_"
   ]
  },
  {
   "cell_type": "raw",
   "metadata": {},
   "source": [
    "BASE\n",
    "FILAS Y COLUMNAS A MOSTRAR EN EL OUTPUT\n",
    "DESCRIPTIVOS\n",
    "    >INFO()\n",
    "    >DESCRIBE()\n",
    "    >VALUE_COUNTS()\n",
    "    >UNIQUE ()\n",
    "FILTROS\n",
    "    >FILTRO POR FILA CON EL NOMBRE DE LA CATEGORIA A EXCLUIR\n",
    "    >FILTRO POR FILA EXCLUYENDO LOS NaN DE UNA COLUMNA\n",
    "    >FILTRO SELECCIONANDO VALORES DE UNA LISTA (ISIN)\n",
    "    >FILTRO CON DATOS QUE NO ESTEN EN UNA LISTA (~)\n",
    "    >FILTRO USANDO EQ FUNCTION\n",
    "    >FILTRO CON VALORES MAYORES(MENORES) A UN PARAMETRO\n",
    "    >FILTROS CON MULTIPLES CONDICIONES\n",
    "    >FILTRO FILAS SEGUN UNA COLUMNA QUE CONTIENE CIERTOS CARACTERES\n",
    "DROP COLUMNS PARA QUE LA BASE SEA MAS LIVIANA\n",
    "SLICING\n",
    "    >LOC\n",
    "    >ILOC\n",
    "    >SLICING SOBRE UNA O VARIAS COLUMNAS\n",
    "SETTING VALUES\n",
    "    >MODIFICACION DE FILAS Y COLUMNAS\n",
    "    >SETTING VALUES PARA UNA COLUMNA ENTERA\n",
    "    >SETTNG VALUES PARA FILAS QUE CUMPLEN UNA CONDICION\n",
    "    >SETTNG VALUES PARA FILAS QUE CUMPLEN VARIAS CONDICIONES\n",
    "MISSINGS\n",
    "    >SELECCIONAMOS TODAS LAS COLUMNAS QUE CONTIENEN ALGUN NaN\n",
    "    >EXCLUIMOS FILAS DE UNA COLUMNA QUE SON NaN\n",
    "    >SELECCION DE LOS MISSING DE UNA COLUMNA Y LOS NO MISSING\n",
    "    >GRAFICO DE MISSINS\n",
    "DATA TYPES\n",
    "    > CONVERT DATA TYPES\n",
    "STRINGS Y FUNCIONES REGEX\n",
    "    >GENERICAS\n",
    "    >RE MODULE > CLEANING REGEX PARA STRINGS"
   ]
  },
  {
   "cell_type": "markdown",
   "metadata": {},
   "source": [
    "### BASE"
   ]
  },
  {
   "cell_type": "code",
   "execution_count": 2,
   "metadata": {},
   "outputs": [
    {
     "data": {
      "text/plain": [
       "('C:\\\\Users\\\\Mumes\\\\Desktop\\\\owid-covid-data.csv',\n",
       " <http.client.HTTPMessage at 0x56e02c8>)"
      ]
     },
     "execution_count": 2,
     "metadata": {},
     "output_type": "execute_result"
    }
   ],
   "source": [
    "#Import libraries\n",
    "from urllib.request import urlretrieve\n",
    "\n",
    "# Assign url of file: url, Save file locally and read it\n",
    "url = 'https://covid.ourworldindata.org/data/owid-covid-data.csv'\n",
    "urlretrieve(url, r'C:\\Users\\Mumes\\Desktop\\owid-covid-data.csv')"
   ]
  },
  {
   "cell_type": "markdown",
   "metadata": {},
   "source": [
    "### #FILAS Y COLUMNAS A MOSTRAR EN EL OUTPUT"
   ]
  },
  {
   "cell_type": "code",
   "execution_count": 11,
   "metadata": {},
   "outputs": [
    {
     "data": {
      "text/html": [
       "<div>\n",
       "<style scoped>\n",
       "    .dataframe tbody tr th:only-of-type {\n",
       "        vertical-align: middle;\n",
       "    }\n",
       "\n",
       "    .dataframe tbody tr th {\n",
       "        vertical-align: top;\n",
       "    }\n",
       "\n",
       "    .dataframe thead th {\n",
       "        text-align: right;\n",
       "    }\n",
       "</style>\n",
       "<table border=\"1\" class=\"dataframe\">\n",
       "  <thead>\n",
       "    <tr style=\"text-align: right;\">\n",
       "      <th></th>\n",
       "      <th>iso_code</th>\n",
       "      <th>continent</th>\n",
       "      <th>location</th>\n",
       "      <th>date</th>\n",
       "      <th>new_cases</th>\n",
       "    </tr>\n",
       "  </thead>\n",
       "  <tbody>\n",
       "    <tr>\n",
       "      <th>0</th>\n",
       "      <td>AFG</td>\n",
       "      <td>Asia</td>\n",
       "      <td>Afghanistan</td>\n",
       "      <td>2019-12-31</td>\n",
       "      <td>0.0</td>\n",
       "    </tr>\n",
       "    <tr>\n",
       "      <th>...</th>\n",
       "      <td>...</td>\n",
       "      <td>...</td>\n",
       "      <td>...</td>\n",
       "      <td>...</td>\n",
       "      <td>...</td>\n",
       "    </tr>\n",
       "    <tr>\n",
       "      <th>26748</th>\n",
       "      <td>NaN</td>\n",
       "      <td>NaN</td>\n",
       "      <td>International</td>\n",
       "      <td>2020-03-10</td>\n",
       "      <td>-9.0</td>\n",
       "    </tr>\n",
       "  </tbody>\n",
       "</table>\n",
       "<p>26749 rows × 5 columns</p>\n",
       "</div>"
      ],
      "text/plain": [
       "      iso_code continent       location        date  new_cases\n",
       "0          AFG      Asia    Afghanistan  2019-12-31        0.0\n",
       "...        ...       ...            ...         ...        ...\n",
       "26748      NaN       NaN  International  2020-03-10       -9.0\n",
       "\n",
       "[26749 rows x 5 columns]"
      ]
     },
     "execution_count": 11,
     "metadata": {},
     "output_type": "execute_result"
    }
   ],
   "source": [
    "import pandas as pd\n",
    "df = pd.read_csv(r'C:\\Users\\Mumes\\Desktop\\owid-covid-data.csv')\n",
    "# setting rows y columns output\n",
    "pd.set_option('display.max_columns', 10)\n",
    "pd.set_option('display.max_rows', 3)\n",
    "#columnas de un df\n",
    "df.columns\n",
    "#seleccion de ciertas columnas\n",
    "df[['iso_code', 'continent', 'location', 'date', 'new_cases']]"
   ]
  },
  {
   "cell_type": "markdown",
   "metadata": {},
   "source": [
    "### DESCRIPTIVOS"
   ]
  },
  {
   "cell_type": "markdown",
   "metadata": {},
   "source": [
    "##### INFO()"
   ]
  },
  {
   "cell_type": "code",
   "execution_count": null,
   "metadata": {},
   "outputs": [],
   "source": [
    "import pandas as pd\n",
    "df = pd.read_csv(r'C:\\Users\\Mumes\\Desktop\\owid-covid-data.csv')\n",
    "df.info()"
   ]
  },
  {
   "cell_type": "markdown",
   "metadata": {},
   "source": [
    "##### DESCRIBE DATAFRAME Y DESCRIBE COLUMNA"
   ]
  },
  {
   "cell_type": "code",
   "execution_count": null,
   "metadata": {},
   "outputs": [],
   "source": [
    "import pandas as pd\n",
    "df = pd.read_csv(r'C:\\Users\\Mumes\\Desktop\\owid-covid-data.csv')\n",
    "df.describe()\n",
    "df.continent.describe()"
   ]
  },
  {
   "cell_type": "markdown",
   "metadata": {},
   "source": [
    "##### VALUE_COUNTS()  (NO INCLUYEN  NaN)"
   ]
  },
  {
   "cell_type": "code",
   "execution_count": null,
   "metadata": {},
   "outputs": [],
   "source": [
    "import pandas as pd\n",
    "df = pd.read_csv(r'C:\\Users\\Mumes\\Desktop\\owid-covid-data.csv')\n",
    "df.continent.value_counts()"
   ]
  },
  {
   "cell_type": "markdown",
   "metadata": {},
   "source": [
    "#####  UNIQUE (SOLO PARA COLUMNAS, INCLUYE NaN)"
   ]
  },
  {
   "cell_type": "code",
   "execution_count": null,
   "metadata": {},
   "outputs": [],
   "source": [
    "import pandas as pd\n",
    "df = pd.read_csv(r'C:\\Users\\Mumes\\Desktop\\owid-covid-data.csv')\n",
    "df.continent.unique()"
   ]
  },
  {
   "cell_type": "markdown",
   "metadata": {},
   "source": [
    "### FILTROS"
   ]
  },
  {
   "cell_type": "markdown",
   "metadata": {},
   "source": [
    "##### FILTRO POR FILA CON EL NOMBRE DE LA CATEGORIA A EXCLUIR"
   ]
  },
  {
   "cell_type": "code",
   "execution_count": null,
   "metadata": {},
   "outputs": [],
   "source": [
    "import pandas as pd\n",
    "df = pd.read_csv(r'C:\\Users\\Mumes\\Desktop\\owid-covid-data.csv')\n",
    "filter_loc = (df.location != 'World') & (df.location != 'International') \n",
    "df_filt = df[filter_loc]\n",
    "df_filt.shape"
   ]
  },
  {
   "cell_type": "markdown",
   "metadata": {},
   "source": [
    "##### FILTRO POR FILA EXCLUYENDO LOS NaN DE UNA COLUMNA"
   ]
  },
  {
   "cell_type": "code",
   "execution_count": null,
   "metadata": {},
   "outputs": [],
   "source": [
    "import pandas as pd\n",
    "df = pd.read_csv(r'C:\\Users\\Mumes\\Desktop\\owid-covid-data.csv')\n",
    "df_clean = df[df.continent.notnull()]\n",
    "df_clean.shape"
   ]
  },
  {
   "cell_type": "markdown",
   "metadata": {},
   "source": [
    "##### FILTRO SELECCIONANDO VALORES DE UNA LISTA (ISIN)"
   ]
  },
  {
   "cell_type": "code",
   "execution_count": null,
   "metadata": {},
   "outputs": [],
   "source": [
    "import pandas as pd\n",
    "df = pd.read_csv(r'C:\\Users\\Mumes\\Desktop\\owid-covid-data.csv')\n",
    "lista = ['Asia', 'Europe', 'Africa', 'North America', 'South America','Oceania']\n",
    "df_filt = df[df['continent'].isin(lista)]\n",
    "df_filt.shape"
   ]
  },
  {
   "cell_type": "markdown",
   "metadata": {},
   "source": [
    "#### FILTRO CON DATOS QUE NO ESTEN EN UNA LISTA (~)"
   ]
  },
  {
   "cell_type": "code",
   "execution_count": null,
   "metadata": {},
   "outputs": [],
   "source": [
    "import pandas as pd\n",
    "df = pd.read_csv(r'C:\\Users\\Mumes\\Desktop\\owid-covid-data.csv')\n",
    "lista = ['Asia', 'Europe', 'Africa', 'North America', 'South America']\n",
    "df_filt = df[~df['continent'].isin(lista)]\n",
    "df_filt.head(2)"
   ]
  },
  {
   "cell_type": "markdown",
   "metadata": {},
   "source": [
    "#### FILTRO USANDO EQ FUNCTION"
   ]
  },
  {
   "cell_type": "code",
   "execution_count": null,
   "metadata": {},
   "outputs": [],
   "source": [
    "import pandas as pd\n",
    "df = pd.read_csv(r'C:\\Users\\Mumes\\Desktop\\owid-covid-data.csv')\n",
    "df_new = df[df.location.eq('Argentina')]\n",
    "df_new.head(2)"
   ]
  },
  {
   "cell_type": "markdown",
   "metadata": {},
   "source": [
    "#### FILTRO CON VALORES MAYORES(MENORES) A UN PARAMETRO"
   ]
  },
  {
   "cell_type": "code",
   "execution_count": null,
   "metadata": {},
   "outputs": [],
   "source": [
    "import pandas as pd\n",
    "df = pd.read_csv(r'C:\\Users\\Mumes\\Desktop\\owid-covid-data.csv')\n",
    "fecha = df.date < '2020-01-01'\n",
    "df_new = df[fecha]\n",
    "df_new.shape"
   ]
  },
  {
   "cell_type": "markdown",
   "metadata": {},
   "source": [
    "#### FILTROS CON MULTIPLES CONDICIONES"
   ]
  },
  {
   "cell_type": "code",
   "execution_count": 8,
   "metadata": {},
   "outputs": [
    {
     "data": {
      "text/html": [
       "<div>\n",
       "<style scoped>\n",
       "    .dataframe tbody tr th:only-of-type {\n",
       "        vertical-align: middle;\n",
       "    }\n",
       "\n",
       "    .dataframe tbody tr th {\n",
       "        vertical-align: top;\n",
       "    }\n",
       "\n",
       "    .dataframe thead th {\n",
       "        text-align: right;\n",
       "    }\n",
       "</style>\n",
       "<table border=\"1\" class=\"dataframe\">\n",
       "  <thead>\n",
       "    <tr style=\"text-align: right;\">\n",
       "      <th></th>\n",
       "      <th>iso_code</th>\n",
       "      <th>continent</th>\n",
       "      <th>location</th>\n",
       "      <th>date</th>\n",
       "      <th>total_cases</th>\n",
       "      <th>...</th>\n",
       "      <th>female_smokers</th>\n",
       "      <th>male_smokers</th>\n",
       "      <th>handwashing_facilities</th>\n",
       "      <th>hospital_beds_per_thousand</th>\n",
       "      <th>life_expectancy</th>\n",
       "    </tr>\n",
       "  </thead>\n",
       "  <tbody>\n",
       "    <tr>\n",
       "      <th>1146</th>\n",
       "      <td>ABW</td>\n",
       "      <td>North America</td>\n",
       "      <td>Aruba</td>\n",
       "      <td>2020-03-13</td>\n",
       "      <td>2.0</td>\n",
       "      <td>...</td>\n",
       "      <td>NaN</td>\n",
       "      <td>NaN</td>\n",
       "      <td>NaN</td>\n",
       "      <td>NaN</td>\n",
       "      <td>76.29</td>\n",
       "    </tr>\n",
       "    <tr>\n",
       "      <th>...</th>\n",
       "      <td>...</td>\n",
       "      <td>...</td>\n",
       "      <td>...</td>\n",
       "      <td>...</td>\n",
       "      <td>...</td>\n",
       "      <td>...</td>\n",
       "      <td>...</td>\n",
       "      <td>...</td>\n",
       "      <td>...</td>\n",
       "      <td>...</td>\n",
       "      <td>...</td>\n",
       "    </tr>\n",
       "    <tr>\n",
       "      <th>1149</th>\n",
       "      <td>ABW</td>\n",
       "      <td>North America</td>\n",
       "      <td>Aruba</td>\n",
       "      <td>2020-03-25</td>\n",
       "      <td>17.0</td>\n",
       "      <td>...</td>\n",
       "      <td>NaN</td>\n",
       "      <td>NaN</td>\n",
       "      <td>NaN</td>\n",
       "      <td>NaN</td>\n",
       "      <td>76.29</td>\n",
       "    </tr>\n",
       "  </tbody>\n",
       "</table>\n",
       "<p>4 rows × 34 columns</p>\n",
       "</div>"
      ],
      "text/plain": [
       "     iso_code      continent location        date  total_cases  ...  \\\n",
       "1146      ABW  North America    Aruba  2020-03-13          2.0  ...   \n",
       "...       ...            ...      ...         ...          ...  ...   \n",
       "1149      ABW  North America    Aruba  2020-03-25         17.0  ...   \n",
       "\n",
       "      female_smokers  male_smokers  handwashing_facilities  \\\n",
       "1146             NaN           NaN                     NaN   \n",
       "...              ...           ...                     ...   \n",
       "1149             NaN           NaN                     NaN   \n",
       "\n",
       "      hospital_beds_per_thousand  life_expectancy  \n",
       "1146                         NaN            76.29  \n",
       "...                          ...              ...  \n",
       "1149                         NaN            76.29  \n",
       "\n",
       "[4 rows x 34 columns]"
      ]
     },
     "execution_count": 8,
     "metadata": {},
     "output_type": "execute_result"
    }
   ],
   "source": [
    "import pandas as pd\n",
    "df = pd.read_csv(r'C:\\Users\\Mumes\\Desktop\\owid-covid-data.csv')\n",
    "continentes = [ 'North America', 'South America']\n",
    "paises_exc = [ 'Anguilla','Antigua and Barbuda', 'Argentina']\n",
    "df_new = df[~df.location.isin(paises_exc) & df.continent.isin(continentes)] #q este dentro de continentes y q no sea un pais excluido\n",
    "df_new.head(4)"
   ]
  },
  {
   "cell_type": "markdown",
   "metadata": {},
   "source": [
    "#### FILTRO FILAS SEGUN UNA COLUMNA QUE CONTIENE CIERTOS CARACTERES"
   ]
  },
  {
   "cell_type": "code",
   "execution_count": 12,
   "metadata": {},
   "outputs": [
    {
     "data": {
      "text/html": [
       "<div>\n",
       "<style scoped>\n",
       "    .dataframe tbody tr th:only-of-type {\n",
       "        vertical-align: middle;\n",
       "    }\n",
       "\n",
       "    .dataframe tbody tr th {\n",
       "        vertical-align: top;\n",
       "    }\n",
       "\n",
       "    .dataframe thead th {\n",
       "        text-align: right;\n",
       "    }\n",
       "</style>\n",
       "<table border=\"1\" class=\"dataframe\">\n",
       "  <thead>\n",
       "    <tr style=\"text-align: right;\">\n",
       "      <th></th>\n",
       "      <th>iso_code</th>\n",
       "      <th>continent</th>\n",
       "      <th>location</th>\n",
       "      <th>date</th>\n",
       "      <th>total_cases</th>\n",
       "      <th>...</th>\n",
       "      <th>female_smokers</th>\n",
       "      <th>male_smokers</th>\n",
       "      <th>handwashing_facilities</th>\n",
       "      <th>hospital_beds_per_thousand</th>\n",
       "      <th>life_expectancy</th>\n",
       "    </tr>\n",
       "  </thead>\n",
       "  <tbody>\n",
       "    <tr>\n",
       "      <th>17983</th>\n",
       "      <td>MNP</td>\n",
       "      <td>Oceania</td>\n",
       "      <td>Northern Mariana Islands</td>\n",
       "      <td>2020-03-31</td>\n",
       "      <td>2.0</td>\n",
       "      <td>...</td>\n",
       "      <td>NaN</td>\n",
       "      <td>NaN</td>\n",
       "      <td>NaN</td>\n",
       "      <td>NaN</td>\n",
       "      <td>76.74</td>\n",
       "    </tr>\n",
       "    <tr>\n",
       "      <th>...</th>\n",
       "      <td>...</td>\n",
       "      <td>...</td>\n",
       "      <td>...</td>\n",
       "      <td>...</td>\n",
       "      <td>...</td>\n",
       "      <td>...</td>\n",
       "      <td>...</td>\n",
       "      <td>...</td>\n",
       "      <td>...</td>\n",
       "      <td>...</td>\n",
       "      <td>...</td>\n",
       "    </tr>\n",
       "    <tr>\n",
       "      <th>18253</th>\n",
       "      <td>NOR</td>\n",
       "      <td>Europe</td>\n",
       "      <td>Norway</td>\n",
       "      <td>2020-06-28</td>\n",
       "      <td>8815.0</td>\n",
       "      <td>...</td>\n",
       "      <td>19.6</td>\n",
       "      <td>20.7</td>\n",
       "      <td>NaN</td>\n",
       "      <td>3.6</td>\n",
       "      <td>82.40</td>\n",
       "    </tr>\n",
       "  </tbody>\n",
       "</table>\n",
       "<p>271 rows × 34 columns</p>\n",
       "</div>"
      ],
      "text/plain": [
       "      iso_code continent                  location        date  total_cases  \\\n",
       "17983      MNP   Oceania  Northern Mariana Islands  2020-03-31          2.0   \n",
       "...        ...       ...                       ...         ...          ...   \n",
       "18253      NOR    Europe                    Norway  2020-06-28       8815.0   \n",
       "\n",
       "       ...  female_smokers  male_smokers  handwashing_facilities  \\\n",
       "17983  ...             NaN           NaN                     NaN   \n",
       "...    ...             ...           ...                     ...   \n",
       "18253  ...            19.6          20.7                     NaN   \n",
       "\n",
       "       hospital_beds_per_thousand  life_expectancy  \n",
       "17983                         NaN            76.74  \n",
       "...                           ...              ...  \n",
       "18253                         3.6            82.40  \n",
       "\n",
       "[271 rows x 34 columns]"
      ]
     },
     "execution_count": 12,
     "metadata": {},
     "output_type": "execute_result"
    }
   ],
   "source": [
    "import pandas as pd\n",
    "df = pd.read_csv(r'C:\\Users\\Mumes\\Desktop\\owid-covid-data.csv')\n",
    "filt = df ['location'].str.contains('Nor')\n",
    "df[filt]"
   ]
  },
  {
   "cell_type": "markdown",
   "metadata": {},
   "source": [
    "### DROP COLUMNS PARA QUE LA BASE SEA MAS LIVIANA"
   ]
  },
  {
   "cell_type": "code",
   "execution_count": null,
   "metadata": {},
   "outputs": [],
   "source": [
    "import pandas as pd\n",
    "df = pd.read_csv(r'C:\\Users\\Mumes\\Desktop\\owid-covid-data.csv')\n",
    "df.drop( columns = ['total_cases_per_million',\n",
    "       'new_cases_per_million', 'total_deaths_per_million',\n",
    "       'new_deaths_per_million', 'tests_units', 'population_density', 'median_age',\n",
    "       'aged_65_older', 'aged_70_older', 'extreme_poverty', 'diabetes_prevalence', 'female_smokers',\n",
    "       'male_smokers', 'handwashing_facilities'], inplace = True)\n",
    "df.shape"
   ]
  },
  {
   "cell_type": "markdown",
   "metadata": {},
   "source": [
    "### SLICING"
   ]
  },
  {
   "cell_type": "markdown",
   "metadata": {},
   "source": [
    "#### ILOC (INDEX POSITION)"
   ]
  },
  {
   "cell_type": "code",
   "execution_count": null,
   "metadata": {},
   "outputs": [],
   "source": [
    "df.iloc[2:7,1:3] #Third to Seventh row, 2nd and 3rd column"
   ]
  },
  {
   "cell_type": "markdown",
   "metadata": {},
   "source": [
    "#### LOC (INDEX LABEL > DEBEMOS SETTEAR LA COLUMNA INDICE)"
   ]
  },
  {
   "cell_type": "code",
   "execution_count": null,
   "metadata": {},
   "outputs": [],
   "source": [
    "import pandas as pd\n",
    "df = pd.read_csv(r'C:\\Users\\Mumes\\Desktop\\owid-covid-data.csv', index_col = 'location')\n",
    "df.loc['Argentina', 'total_cases':'total_deaths']"
   ]
  },
  {
   "cell_type": "markdown",
   "metadata": {},
   "source": [
    "#### SLICING SOBRE UNA O VARIAS COLUMNAS"
   ]
  },
  {
   "cell_type": "code",
   "execution_count": null,
   "metadata": {},
   "outputs": [],
   "source": [
    "import pandas as pd\n",
    "df = pd.read_csv(r'C:\\Users\\Mumes\\Desktop\\owid-covid-data.csv', index_col = 'location')\n",
    "df.loc[['Argentina','Peru'],['continent', 'date']] #solo filas seleccionadas del index\n",
    "#df.loc[:,['continent', 'date']] #todas las filas"
   ]
  },
  {
   "cell_type": "markdown",
   "metadata": {},
   "source": [
    "### SETTING VALUES"
   ]
  },
  {
   "cell_type": "markdown",
   "metadata": {},
   "source": [
    "#### MODIFICACION DE FILAS Y COLUMNAS"
   ]
  },
  {
   "cell_type": "code",
   "execution_count": 15,
   "metadata": {},
   "outputs": [
    {
     "data": {
      "text/html": [
       "<div>\n",
       "<style scoped>\n",
       "    .dataframe tbody tr th:only-of-type {\n",
       "        vertical-align: middle;\n",
       "    }\n",
       "\n",
       "    .dataframe tbody tr th {\n",
       "        vertical-align: top;\n",
       "    }\n",
       "\n",
       "    .dataframe thead th {\n",
       "        text-align: right;\n",
       "    }\n",
       "</style>\n",
       "<table border=\"1\" class=\"dataframe\">\n",
       "  <thead>\n",
       "    <tr style=\"text-align: right;\">\n",
       "      <th></th>\n",
       "      <th>ISO_CODE</th>\n",
       "      <th>CONTINENT</th>\n",
       "      <th>LOCATION</th>\n",
       "      <th>DATE</th>\n",
       "      <th>TOTAL_CASES</th>\n",
       "      <th>...</th>\n",
       "      <th>FEMALE_SMOKERS</th>\n",
       "      <th>MALE_SMOKERS</th>\n",
       "      <th>HANDWASHING_FACILITIES</th>\n",
       "      <th>HOSPITAL_BEDS_PER_THOUSAND</th>\n",
       "      <th>LIFE_EXPECTANCY</th>\n",
       "    </tr>\n",
       "  </thead>\n",
       "  <tbody>\n",
       "    <tr>\n",
       "      <th>0</th>\n",
       "      <td>AFG</td>\n",
       "      <td>Asia</td>\n",
       "      <td>Afghanistan</td>\n",
       "      <td>2019-12-31</td>\n",
       "      <td>0.0</td>\n",
       "      <td>...</td>\n",
       "      <td>NaN</td>\n",
       "      <td>NaN</td>\n",
       "      <td>37.746</td>\n",
       "      <td>0.5</td>\n",
       "      <td>64.83</td>\n",
       "    </tr>\n",
       "    <tr>\n",
       "      <th>...</th>\n",
       "      <td>...</td>\n",
       "      <td>...</td>\n",
       "      <td>...</td>\n",
       "      <td>...</td>\n",
       "      <td>...</td>\n",
       "      <td>...</td>\n",
       "      <td>...</td>\n",
       "      <td>...</td>\n",
       "      <td>...</td>\n",
       "      <td>...</td>\n",
       "      <td>...</td>\n",
       "    </tr>\n",
       "    <tr>\n",
       "      <th>4</th>\n",
       "      <td>AFG</td>\n",
       "      <td>Asia</td>\n",
       "      <td>Afghanistan</td>\n",
       "      <td>2020-01-04</td>\n",
       "      <td>0.0</td>\n",
       "      <td>...</td>\n",
       "      <td>NaN</td>\n",
       "      <td>NaN</td>\n",
       "      <td>37.746</td>\n",
       "      <td>0.5</td>\n",
       "      <td>64.83</td>\n",
       "    </tr>\n",
       "  </tbody>\n",
       "</table>\n",
       "<p>5 rows × 34 columns</p>\n",
       "</div>"
      ],
      "text/plain": [
       "   ISO_CODE CONTINENT     LOCATION        DATE  TOTAL_CASES  ...  \\\n",
       "0       AFG      Asia  Afghanistan  2019-12-31          0.0  ...   \n",
       "..      ...       ...          ...         ...          ...  ...   \n",
       "4       AFG      Asia  Afghanistan  2020-01-04          0.0  ...   \n",
       "\n",
       "    FEMALE_SMOKERS  MALE_SMOKERS  HANDWASHING_FACILITIES  \\\n",
       "0              NaN           NaN                  37.746   \n",
       "..             ...           ...                     ...   \n",
       "4              NaN           NaN                  37.746   \n",
       "\n",
       "    HOSPITAL_BEDS_PER_THOUSAND  LIFE_EXPECTANCY  \n",
       "0                          0.5            64.83  \n",
       "..                         ...              ...  \n",
       "4                          0.5            64.83  \n",
       "\n",
       "[5 rows x 34 columns]"
      ]
     },
     "execution_count": 15,
     "metadata": {},
     "output_type": "execute_result"
    }
   ],
   "source": [
    "import pandas as pd\n",
    "df = pd.read_csv(r'C:\\Users\\Mumes\\Desktop\\owid-covid-data.csv')\n",
    "# encabezados en mayusculas\n",
    "df.columns = [x.upper() for x in df.columns]\n",
    "df.head()\n",
    "# reemplazar un caracter\n",
    "df.columns = df.columns.str.replace( ' ','_')\n",
    "# renombrar una columa\n",
    "df.rename(columns={'col1':'new_col1'}, inplace = True)\n",
    "# mofidicacion de una celda\n",
    "df.loc[2, 'columnaB'] = “pepe”   # modifica el valor de la fila 3, columna B por el valor pepe\n",
    "# todos los valores de la columna en minuscula\n",
    "df['col1'] = df['col1'].str.lower()\n",
    "# todo el dataframe en minuscula\n",
    "df.applymap(str.lower)"
   ]
  },
  {
   "cell_type": "markdown",
   "metadata": {},
   "source": [
    "##### SETTING VALUES PARA UNA COLUMNA ENTERA"
   ]
  },
  {
   "cell_type": "code",
   "execution_count": null,
   "metadata": {},
   "outputs": [],
   "source": [
    "import pandas as pd\n",
    "df = pd.read_csv(r'C:\\Users\\Mumes\\Desktop\\owid-covid-data.csv')\n",
    "df.loc[:, 'location'] = 'Argentina'\n",
    "df.tail(2)"
   ]
  },
  {
   "cell_type": "markdown",
   "metadata": {},
   "source": [
    "#### SETTNG VALUES PARA FILAS QUE CUMPLEN UNA CONDICION"
   ]
  },
  {
   "cell_type": "code",
   "execution_count": null,
   "metadata": {},
   "outputs": [],
   "source": [
    "import pandas as pd\n",
    "df = pd.read_csv(r'C:\\Users\\Mumes\\Desktop\\owid-covid-data.csv')\n",
    "df.describe()\n",
    "df.loc[df['new_cases'] < 0, ['new_cases']] = 0  # reemplaza todos los negativos en new_cases por cero\n",
    "df.describe()"
   ]
  },
  {
   "cell_type": "code",
   "execution_count": null,
   "metadata": {},
   "outputs": [],
   "source": [
    "import pandas as pd\n",
    "df = pd.read_csv(r'C:\\Users\\Mumes\\Desktop\\owid-covid-data.csv')\n",
    "df.loc[df['location'] == 'Afghanistan', ['location']] = 'Afghanos'  # reemplaza todos los valores Afghanistan por Afganos\n",
    "df.loc[df['total_cases'] == 0, ['total_cases']] = 7 # reemplaza los total_cases iguales a cero por 7\n",
    "df.head(2)"
   ]
  },
  {
   "cell_type": "markdown",
   "metadata": {},
   "source": [
    "#### SETTNG VALUES PARA FILAS QUE CUMPLEN VARIAS CONDICIONES"
   ]
  },
  {
   "cell_type": "code",
   "execution_count": null,
   "metadata": {},
   "outputs": [],
   "source": [
    "import pandas as pd\n",
    "df = pd.read_csv(r'C:\\Users\\Mumes\\Desktop\\owid-covid-data.csv')\n",
    "df.loc[(df['location'] == 'Argentina') & (df['new_cases'] == 1), ['iso_code']] = 'SELECCIONADO' # seleccionamos los dias con las cond argentina con 1 caso nuevo\n",
    "df_argentina = df[df.location.eq('Argentina')]\n",
    "df_argentina"
   ]
  },
  {
   "cell_type": "markdown",
   "metadata": {},
   "source": [
    "### MISSINGS"
   ]
  },
  {
   "cell_type": "markdown",
   "metadata": {},
   "source": [
    "#### SELECCIONAMOS TODAS LAS COLUMNAS QUE CONTIENEN ALGUN NaN"
   ]
  },
  {
   "cell_type": "code",
   "execution_count": null,
   "metadata": {},
   "outputs": [],
   "source": [
    "import pandas as pd\n",
    "df = pd.read_csv(r'C:\\Users\\Mumes\\Desktop\\owid-covid-data.csv')\n",
    "df.loc[:,df.isnull().any()]"
   ]
  },
  {
   "cell_type": "markdown",
   "metadata": {},
   "source": [
    "#### SELECCION DE LOS MISSING DE UNA COLUMNA Y LOS NO MISSING"
   ]
  },
  {
   "cell_type": "code",
   "execution_count": null,
   "metadata": {},
   "outputs": [],
   "source": [
    "import pandas as pd\n",
    "df = pd.read_csv(r'C:\\Users\\Mumes\\Desktop\\owid-covid-data.csv')\n",
    "missing = df[df['continent'].isna()]\n",
    "nomissing = df[~df[‘col’].isna()]\n",
    "missing.head()"
   ]
  },
  {
   "cell_type": "markdown",
   "metadata": {},
   "source": [
    "#### REEMPLAZAR LOS MISSING DE UNA COLUMNA CON UN VALOR ( VER TAMBIEN SETTING VALUES)"
   ]
  },
  {
   "cell_type": "code",
   "execution_count": null,
   "metadata": {},
   "outputs": [],
   "source": [
    "import pandas as pd\n",
    "df = pd.read_csv(r'C:\\Users\\Mumes\\Desktop\\owid-covid-data.csv')\n",
    "df['continent']= df['continent'].fillna('sinconti') # para llenar con 0 los missing  \n",
    "df.tail(2)\n"
   ]
  },
  {
   "cell_type": "markdown",
   "metadata": {},
   "source": [
    "#### EXCLUIMOS FILAS DE UNA COLUMNA QUE SON NaN"
   ]
  },
  {
   "cell_type": "code",
   "execution_count": null,
   "metadata": {},
   "outputs": [],
   "source": [
    "import pandas as pd\n",
    "df = pd.read_csv(r'C:\\Users\\Mumes\\Desktop\\owid-covid-data.csv')\n",
    "df_clean = df[df.continent.notnull()]\n",
    "df_clean.shape"
   ]
  },
  {
   "cell_type": "markdown",
   "metadata": {},
   "source": [
    "#### GRAFICO DE MISSING"
   ]
  },
  {
   "cell_type": "code",
   "execution_count": null,
   "metadata": {},
   "outputs": [],
   "source": [
    "import missingno as msno\n",
    "import matplotlib.pyplot  as plt\n",
    "import pandas as pd\n",
    "df = pd.read_csv(r'C:\\Users\\Mumes\\Desktop\\owid-covid-data.csv')\n",
    "msno.matrix(df)\n",
    "plt.show()"
   ]
  },
  {
   "cell_type": "markdown",
   "metadata": {},
   "source": [
    "### DATA TYPES"
   ]
  },
  {
   "cell_type": "markdown",
   "metadata": {},
   "source": [
    "#### CONVERT DATA TYPES"
   ]
  },
  {
   "cell_type": "code",
   "execution_count": null,
   "metadata": {},
   "outputs": [],
   "source": [
    "#CONV TO STRING\n",
    "df['column'] = df.['column'].astype(str)\n",
    "#CONV TO CATEGORIC \n",
    "df.column = df.column.astype('category')\n",
    "#CONV TO NUM\n",
    "df['column'] = pd.to_numeric(df['column'], errors='coerce') # coerce pone los “-”como NaN missinfg"
   ]
  },
  {
   "cell_type": "markdown",
   "metadata": {},
   "source": [
    "### STRINGS > FUNCIONES Y REGEX"
   ]
  },
  {
   "cell_type": "markdown",
   "metadata": {},
   "source": [
    "#### GENERICAS"
   ]
  },
  {
   "cell_type": "code",
   "execution_count": null,
   "metadata": {},
   "outputs": [],
   "source": [
    "import pandas as pd\n",
    "df = pd.read_csv(r'C:\\Users\\Mumes\\Desktop\\owid-covid-data.csv')\n",
    "## para extraer el primer digito de una columna\n",
    "df['column']=df.column_melt.str[0] \n",
    "# para separar una variable\n",
    "df['str_split'] = df_melt.variable.str.split('_') \n",
    "#REEMPLAZAR CARACTERES  \n",
    "df ['column'] = df['column'].str.replace( '+' : '00') \n",
    "#ASSERT >returns nothing if the condition passes\n",
    "checked = phone[ ‘phone_number’].str.len()\n",
    "assert checked >= 10  "
   ]
  },
  {
   "cell_type": "markdown",
   "metadata": {},
   "source": [
    "#### RE MODULE > CLEANING REG EXPRESSIONS PARA STRINGS "
   ]
  },
  {
   "cell_type": "code",
   "execution_count": null,
   "metadata": {},
   "outputs": [],
   "source": [
    "# REGEX PARA MATCHEAR\n",
    "import pandas as pd\n",
    "df = pd.read_csv(r'C:\\Users\\Mumes\\Desktop\\owid-covid-data.csv')\n",
    "import re\n",
    "pattern=re.compile('\\$\\d* \\.\\d{2}')\n",
    "result = pattern.match('17.89') \n",
    "bool(result)\n",
    "#OTRO TIPO DE MATCHING >>> me dice los num dentro de una string\n",
    "matches = re.findall('\\d+', 'the recipe calls for 10 straw and 1 banana')\n",
    "#MATCH TODO EN UNO\n",
    "pattern1 = bool(re.match(pattern='\\d{3}-\\d{3}-\\d{4}', string='123-456-7890'))"
   ]
  }
 ],
 "metadata": {
  "kernelspec": {
   "display_name": "Python 3",
   "language": "python",
   "name": "python3"
  },
  "language_info": {
   "codemirror_mode": {
    "name": "ipython",
    "version": 3
   },
   "file_extension": ".py",
   "mimetype": "text/x-python",
   "name": "python",
   "nbconvert_exporter": "python",
   "pygments_lexer": "ipython3",
   "version": "3.7.6"
  }
 },
 "nbformat": 4,
 "nbformat_minor": 4
}
