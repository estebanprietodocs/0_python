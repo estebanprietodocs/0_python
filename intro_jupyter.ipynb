{
 "cells": [
  {
   "cell_type": "markdown",
   "metadata": {},
   "source": [
    "# BIENVENIDOS A 'JUPYTER'( JULIA + PYTHON + R)\n",
    "### TEMAS A VER:\n",
    "* workbench jupyter notebook\n",
    "* guardar proyectos\n",
    "* latex utilizando $$"
   ]
  },
  {
   "cell_type": "code",
   "execution_count": 45,
   "metadata": {},
   "outputs": [
    {
     "data": {
      "text/html": [
       "<div>\n",
       "<style scoped>\n",
       "    .dataframe tbody tr th:only-of-type {\n",
       "        vertical-align: middle;\n",
       "    }\n",
       "\n",
       "    .dataframe tbody tr th {\n",
       "        vertical-align: top;\n",
       "    }\n",
       "\n",
       "    .dataframe thead th {\n",
       "        text-align: right;\n",
       "    }\n",
       "</style>\n",
       "<table border=\"1\" class=\"dataframe\">\n",
       "  <thead>\n",
       "    <tr style=\"text-align: right;\">\n",
       "      <th></th>\n",
       "      <th>anio</th>\n",
       "      <th>sexo</th>\n",
       "      <th>grupo_edad</th>\n",
       "      <th>nacionalidad</th>\n",
       "      <th>cant_poblacion</th>\n",
       "    </tr>\n",
       "  </thead>\n",
       "  <tbody>\n",
       "    <tr>\n",
       "      <th>0</th>\n",
       "      <td>1855</td>\n",
       "      <td>m</td>\n",
       "      <td>0 - 4</td>\n",
       "      <td>Extranjero</td>\n",
       "      <td>304.0</td>\n",
       "    </tr>\n",
       "    <tr>\n",
       "      <th>1</th>\n",
       "      <td>1855</td>\n",
       "      <td>v</td>\n",
       "      <td>0 - 4</td>\n",
       "      <td>Extranjero</td>\n",
       "      <td>294.0</td>\n",
       "    </tr>\n",
       "    <tr>\n",
       "      <th>2</th>\n",
       "      <td>1855</td>\n",
       "      <td>m</td>\n",
       "      <td>0 - 4</td>\n",
       "      <td>Nativo</td>\n",
       "      <td>4491.0</td>\n",
       "    </tr>\n",
       "    <tr>\n",
       "      <th>3</th>\n",
       "      <td>1855</td>\n",
       "      <td>v</td>\n",
       "      <td>0 - 4</td>\n",
       "      <td>Nativo</td>\n",
       "      <td>4498.0</td>\n",
       "    </tr>\n",
       "    <tr>\n",
       "      <th>4</th>\n",
       "      <td>1855</td>\n",
       "      <td>m</td>\n",
       "      <td>10 - 14</td>\n",
       "      <td>Extranjero</td>\n",
       "      <td>720.0</td>\n",
       "    </tr>\n",
       "  </tbody>\n",
       "</table>\n",
       "</div>"
      ],
      "text/plain": [
       "   anio sexo grupo_edad nacionalidad  cant_poblacion\n",
       "0  1855    m      0 - 4   Extranjero           304.0\n",
       "1  1855    v      0 - 4   Extranjero           294.0\n",
       "2  1855    m      0 - 4       Nativo          4491.0\n",
       "3  1855    v      0 - 4       Nativo          4498.0\n",
       "4  1855    m    10 - 14   Extranjero           720.0"
      ]
     },
     "execution_count": 45,
     "metadata": {},
     "output_type": "execute_result"
    }
   ],
   "source": [
    "import pandas as pd\n",
    "archivo = pd.read_csv(r'C:\\Users\\Mumes\\Desktop\\poblacion.csv',index_col = False)\n",
    "archivo.head()"
   ]
  },
  {
   "cell_type": "code",
   "execution_count": 3,
   "metadata": {},
   "outputs": [
    {
     "name": "stdout",
     "output_type": "stream",
     "text": [
      "<class 'pandas.core.frame.DataFrame'>\n",
      "Int64Index: 1160 entries, 1855 to 2010\n",
      "Data columns (total 4 columns):\n",
      " #   Column          Non-Null Count  Dtype  \n",
      "---  ------          --------------  -----  \n",
      " 0   sexo            1160 non-null   object \n",
      " 1   grupo_edad      1160 non-null   object \n",
      " 2   nacionalidad    1160 non-null   object \n",
      " 3   cant_poblacion  1160 non-null   float64\n",
      "dtypes: float64(1), object(3)\n",
      "memory usage: 45.3+ KB\n"
     ]
    }
   ],
   "source": [
    "archivo.info()"
   ]
  },
  {
   "cell_type": "code",
   "execution_count": null,
   "metadata": {},
   "outputs": [],
   "source": [
    "archivo['sexo'].astype('category')\n",
    "import matplotlib.pyplot as plt\n",
    "plt.bar(archivo['sexo'], archivo['cant_poblacion'])"
   ]
  },
  {
   "cell_type": "code",
   "execution_count": 1,
   "metadata": {
    "scrolled": true
   },
   "outputs": [
    {
     "data": {
      "text/plain": [
       "array([0.8])"
      ]
     },
     "execution_count": 1,
     "metadata": {},
     "output_type": "execute_result"
    }
   ],
   "source": [
    "from sklearn import linear_model\n",
    "reg = linear_model.Lasso(alpha=0.1)\n",
    "reg.fit([[0, 0], [1, 1]], [0, 1])\n",
    "reg.predict([[1, 1]])"
   ]
  },
  {
   "cell_type": "code",
   "execution_count": 3,
   "metadata": {},
   "outputs": [
    {
     "name": "stdout",
     "output_type": "stream",
     "text": [
      "Requirement already satisfied: beautifulsoup4 in c:\\users\\mumes\\anaconda3\\lib\\site-packages (4.8.2)\n",
      "Requirement already satisfied: soupsieve>=1.2 in c:\\users\\mumes\\anaconda3\\lib\\site-packages (from beautifulsoup4) (1.9.5)\n",
      "Note: you may need to restart the kernel to use updated packages.\n"
     ]
    }
   ],
   "source": [
    "pip install beautifulsoup4"
   ]
  },
  {
   "cell_type": "code",
   "execution_count": 12,
   "metadata": {},
   "outputs": [
    {
     "data": {
      "text/html": [
       "<iframe width=\"560\" height=\"315\" src=\"https://www.youtube.com/embed/EEEZX_0FMEc\" frameborder=\"0\" allow=\"accelerometer; autoplay; encrypted-media; gyroscope; picture-in-picture\" allowfullscreen></iframe>\n"
      ],
      "text/plain": [
       "<IPython.core.display.HTML object>"
      ]
     },
     "metadata": {},
     "output_type": "display_data"
    }
   ],
   "source": [
    "%%HTML\n",
    "<iframe width=\"560\" height=\"315\" src=\"https://www.youtube.com/embed/EEEZX_0FMEc\" frameborder=\"0\" allow=\"accelerometer; autoplay; encrypted-media; gyroscope; picture-in-picture\" allowfullscreen></iframe>"
   ]
  },
  {
   "cell_type": "code",
   "execution_count": 24,
   "metadata": {},
   "outputs": [
    {
     "name": "stdout",
     "output_type": "stream",
     "text": [
      "2\n",
      "4\n",
      "6\n",
      "8\n"
     ]
    }
   ],
   "source": [
    "for i in range(2,10,2):\n",
    "    print(i)"
   ]
  },
  {
   "cell_type": "code",
   "execution_count": 49,
   "metadata": {},
   "outputs": [
    {
     "data": {
      "text/html": [
       "<div>\n",
       "<style scoped>\n",
       "    .dataframe tbody tr th:only-of-type {\n",
       "        vertical-align: middle;\n",
       "    }\n",
       "\n",
       "    .dataframe tbody tr th {\n",
       "        vertical-align: top;\n",
       "    }\n",
       "\n",
       "    .dataframe thead th {\n",
       "        text-align: right;\n",
       "    }\n",
       "</style>\n",
       "<table border=\"1\" class=\"dataframe\">\n",
       "  <thead>\n",
       "    <tr style=\"text-align: right;\">\n",
       "      <th></th>\n",
       "      <th>porc_mujeres</th>\n",
       "      <th>grupo_edad</th>\n",
       "      <th>tipo_violencia</th>\n",
       "    </tr>\n",
       "    <tr>\n",
       "      <th>anio</th>\n",
       "      <th></th>\n",
       "      <th></th>\n",
       "      <th></th>\n",
       "    </tr>\n",
       "  </thead>\n",
       "  <tbody>\n",
       "    <tr>\n",
       "      <th>2018</th>\n",
       "      <td>58.5</td>\n",
       "      <td>TOTAL</td>\n",
       "      <td>Al menos un tipo de violencia</td>\n",
       "    </tr>\n",
       "    <tr>\n",
       "      <th>2018</th>\n",
       "      <td>67.4</td>\n",
       "      <td>18 - 29</td>\n",
       "      <td>Al menos un tipo de violencia</td>\n",
       "    </tr>\n",
       "    <tr>\n",
       "      <th>2018</th>\n",
       "      <td>67.0</td>\n",
       "      <td>30 - 39</td>\n",
       "      <td>Al menos un tipo de violencia</td>\n",
       "    </tr>\n",
       "    <tr>\n",
       "      <th>2018</th>\n",
       "      <td>68.1</td>\n",
       "      <td>40 - 49</td>\n",
       "      <td>Al menos un tipo de violencia</td>\n",
       "    </tr>\n",
       "    <tr>\n",
       "      <th>2018</th>\n",
       "      <td>59.1</td>\n",
       "      <td>50 - 59</td>\n",
       "      <td>Al menos un tipo de violencia</td>\n",
       "    </tr>\n",
       "  </tbody>\n",
       "</table>\n",
       "</div>"
      ],
      "text/plain": [
       "      porc_mujeres grupo_edad                 tipo_violencia\n",
       "anio                                                        \n",
       "2018          58.5      TOTAL  Al menos un tipo de violencia\n",
       "2018          67.4    18 - 29  Al menos un tipo de violencia\n",
       "2018          67.0    30 - 39  Al menos un tipo de violencia\n",
       "2018          68.1    40 - 49  Al menos un tipo de violencia\n",
       "2018          59.1    50 - 59  Al menos un tipo de violencia"
      ]
     },
     "execution_count": 49,
     "metadata": {},
     "output_type": "execute_result"
    }
   ],
   "source": [
    "import pandas as pd\n",
    "v = pd.read_csv(r\"C:\\Users\\Mumes\\Desktop\\violencia.csv\", index_col = \"anio\")\n",
    "v.head()"
   ]
  },
  {
   "cell_type": "code",
   "execution_count": 51,
   "metadata": {},
   "outputs": [
    {
     "data": {
      "text/plain": [
       "anio\n",
       "2018    58.5\n",
       "2018    67.4\n",
       "2018    67.0\n",
       "2018    68.1\n",
       "2018    59.1\n",
       "2018    41.1\n",
       "2018    55.3\n",
       "2018    64.8\n",
       "2018    65.2\n",
       "2018    65.0\n",
       "2018    53.7\n",
       "2018    39.1\n",
       "2018    21.5\n",
       "2018    19.4\n",
       "2018    26.0\n",
       "2018    31.9\n",
       "2018    25.8\n",
       "2018    12.4\n",
       "2018    23.7\n",
       "2018    15.0\n",
       "2018    22.5\n",
       "2018    33.3\n",
       "2018    35.9\n",
       "2018    18.9\n",
       "2018    13.5\n",
       "2018    15.1\n",
       "2018    14.2\n",
       "2018    18.2\n",
       "2018    15.3\n",
       "2018     8.9\n",
       "Name: porc_mujeres, dtype: float64"
      ]
     },
     "execution_count": 51,
     "metadata": {},
     "output_type": "execute_result"
    }
   ],
   "source": [
    "v2 = v[\"porc_mujeres\"]\n",
    "v2"
   ]
  }
 ],
 "metadata": {
  "kernelspec": {
   "display_name": "Python 3",
   "language": "python",
   "name": "python3"
  },
  "language_info": {
   "codemirror_mode": {
    "name": "ipython",
    "version": 3
   },
   "file_extension": ".py",
   "mimetype": "text/x-python",
   "name": "python",
   "nbconvert_exporter": "python",
   "pygments_lexer": "ipython3",
   "version": "3.7.6"
  }
 },
 "nbformat": 4,
 "nbformat_minor": 4
}
